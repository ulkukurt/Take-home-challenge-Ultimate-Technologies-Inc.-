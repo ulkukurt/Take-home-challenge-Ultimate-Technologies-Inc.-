{
 "cells": [
  {
   "cell_type": "markdown",
   "metadata": {},
   "source": [
    "# Part-1"
   ]
  },
  {
   "cell_type": "code",
   "execution_count": 1,
   "metadata": {},
   "outputs": [],
   "source": [
    "#Import necessary libraries for Part-1 and Part-3\n",
    "import pandas as pd\n",
    "import numpy as np\n",
    "import matplotlib.pyplot as plt\n",
    "from matplotlib import pyplot\n",
    "from datetime import datetime, timedelta\n",
    "import seaborn as sns\n",
    "\n",
    "from sklearn.model_selection import train_test_split\n",
    "import lightgbm as lgb\n",
    "from sklearn.model_selection import GridSearchCV\n",
    "from sklearn.metrics import confusion_matrix, accuracy_score, classification_report\n",
    "from sklearn import metrics\n",
    "from sklearn.metrics import roc_auc_score\n",
    "from sklearn.metrics import roc_curve"
   ]
  },
  {
   "cell_type": "code",
   "execution_count": 2,
   "metadata": {},
   "outputs": [
    {
     "data": {
      "text/html": [
       "<div>\n",
       "<style scoped>\n",
       "    .dataframe tbody tr th:only-of-type {\n",
       "        vertical-align: middle;\n",
       "    }\n",
       "\n",
       "    .dataframe tbody tr th {\n",
       "        vertical-align: top;\n",
       "    }\n",
       "\n",
       "    .dataframe thead th {\n",
       "        text-align: right;\n",
       "    }\n",
       "</style>\n",
       "<table border=\"1\" class=\"dataframe\">\n",
       "  <thead>\n",
       "    <tr style=\"text-align: right;\">\n",
       "      <th></th>\n",
       "      <th>login_time</th>\n",
       "    </tr>\n",
       "  </thead>\n",
       "  <tbody>\n",
       "    <tr>\n",
       "      <th>0</th>\n",
       "      <td>1970-01-01 20:13:18</td>\n",
       "    </tr>\n",
       "    <tr>\n",
       "      <th>1</th>\n",
       "      <td>1970-01-01 20:16:10</td>\n",
       "    </tr>\n",
       "    <tr>\n",
       "      <th>2</th>\n",
       "      <td>1970-01-01 20:16:37</td>\n",
       "    </tr>\n",
       "    <tr>\n",
       "      <th>3</th>\n",
       "      <td>1970-01-01 20:16:36</td>\n",
       "    </tr>\n",
       "    <tr>\n",
       "      <th>4</th>\n",
       "      <td>1970-01-01 20:26:21</td>\n",
       "    </tr>\n",
       "  </tbody>\n",
       "</table>\n",
       "</div>"
      ],
      "text/plain": [
       "           login_time\n",
       "0 1970-01-01 20:13:18\n",
       "1 1970-01-01 20:16:10\n",
       "2 1970-01-01 20:16:37\n",
       "3 1970-01-01 20:16:36\n",
       "4 1970-01-01 20:26:21"
      ]
     },
     "execution_count": 2,
     "metadata": {},
     "output_type": "execute_result"
    }
   ],
   "source": [
    "#Load the dataset\n",
    "df = pd.read_json('logins.json')\n",
    "df.head()"
   ]
  },
  {
   "cell_type": "code",
   "execution_count": 3,
   "metadata": {},
   "outputs": [
    {
     "name": "stdout",
     "output_type": "stream",
     "text": [
      "<class 'pandas.core.frame.DataFrame'>\n",
      "RangeIndex: 93142 entries, 0 to 93141\n",
      "Data columns (total 1 columns):\n",
      " #   Column      Non-Null Count  Dtype         \n",
      "---  ------      --------------  -----         \n",
      " 0   login_time  93142 non-null  datetime64[ns]\n",
      "dtypes: datetime64[ns](1)\n",
      "memory usage: 727.8 KB\n"
     ]
    }
   ],
   "source": [
    "#Check for dataset\n",
    "df.info()"
   ]
  },
  {
   "cell_type": "code",
   "execution_count": 3,
   "metadata": {},
   "outputs": [
    {
     "data": {
      "text/html": [
       "<div>\n",
       "<style scoped>\n",
       "    .dataframe tbody tr th:only-of-type {\n",
       "        vertical-align: middle;\n",
       "    }\n",
       "\n",
       "    .dataframe tbody tr th {\n",
       "        vertical-align: top;\n",
       "    }\n",
       "\n",
       "    .dataframe thead th {\n",
       "        text-align: right;\n",
       "    }\n",
       "</style>\n",
       "<table border=\"1\" class=\"dataframe\">\n",
       "  <thead>\n",
       "    <tr style=\"text-align: right;\">\n",
       "      <th></th>\n",
       "      <th>login_time</th>\n",
       "    </tr>\n",
       "  </thead>\n",
       "  <tbody>\n",
       "    <tr>\n",
       "      <th>count</th>\n",
       "      <td>93142</td>\n",
       "    </tr>\n",
       "    <tr>\n",
       "      <th>mean</th>\n",
       "      <td>1970-02-26 19:09:39.779648278</td>\n",
       "    </tr>\n",
       "    <tr>\n",
       "      <th>min</th>\n",
       "      <td>1970-01-01 20:12:16</td>\n",
       "    </tr>\n",
       "    <tr>\n",
       "      <th>25%</th>\n",
       "      <td>1970-02-04 10:37:19.750000</td>\n",
       "    </tr>\n",
       "    <tr>\n",
       "      <th>50%</th>\n",
       "      <td>1970-03-01 06:33:05.500000</td>\n",
       "    </tr>\n",
       "    <tr>\n",
       "      <th>75%</th>\n",
       "      <td>1970-03-22 04:01:10.750000</td>\n",
       "    </tr>\n",
       "    <tr>\n",
       "      <th>max</th>\n",
       "      <td>1970-04-13 18:57:38</td>\n",
       "    </tr>\n",
       "  </tbody>\n",
       "</table>\n",
       "</div>"
      ],
      "text/plain": [
       "                          login_time\n",
       "count                          93142\n",
       "mean   1970-02-26 19:09:39.779648278\n",
       "min              1970-01-01 20:12:16\n",
       "25%       1970-02-04 10:37:19.750000\n",
       "50%       1970-03-01 06:33:05.500000\n",
       "75%       1970-03-22 04:01:10.750000\n",
       "max              1970-04-13 18:57:38"
      ]
     },
     "execution_count": 3,
     "metadata": {},
     "output_type": "execute_result"
    }
   ],
   "source": [
    "df.describe(datetime_is_numeric=True)"
   ]
  },
  {
   "cell_type": "code",
   "execution_count": 4,
   "metadata": {},
   "outputs": [
    {
     "data": {
      "text/html": [
       "<div>\n",
       "<style scoped>\n",
       "    .dataframe tbody tr th:only-of-type {\n",
       "        vertical-align: middle;\n",
       "    }\n",
       "\n",
       "    .dataframe tbody tr th {\n",
       "        vertical-align: top;\n",
       "    }\n",
       "\n",
       "    .dataframe thead th {\n",
       "        text-align: right;\n",
       "    }\n",
       "</style>\n",
       "<table border=\"1\" class=\"dataframe\">\n",
       "  <thead>\n",
       "    <tr style=\"text-align: right;\">\n",
       "      <th></th>\n",
       "      <th>login_time_count</th>\n",
       "    </tr>\n",
       "    <tr>\n",
       "      <th>login_time</th>\n",
       "      <th></th>\n",
       "    </tr>\n",
       "  </thead>\n",
       "  <tbody>\n",
       "    <tr>\n",
       "      <th>1970-01-01 20:00:00</th>\n",
       "      <td>2</td>\n",
       "    </tr>\n",
       "    <tr>\n",
       "      <th>1970-01-01 20:15:00</th>\n",
       "      <td>6</td>\n",
       "    </tr>\n",
       "    <tr>\n",
       "      <th>1970-01-01 20:30:00</th>\n",
       "      <td>9</td>\n",
       "    </tr>\n",
       "    <tr>\n",
       "      <th>1970-01-01 20:45:00</th>\n",
       "      <td>7</td>\n",
       "    </tr>\n",
       "    <tr>\n",
       "      <th>1970-01-01 21:00:00</th>\n",
       "      <td>1</td>\n",
       "    </tr>\n",
       "  </tbody>\n",
       "</table>\n",
       "</div>"
      ],
      "text/plain": [
       "                     login_time_count\n",
       "login_time                           \n",
       "1970-01-01 20:00:00                 2\n",
       "1970-01-01 20:15:00                 6\n",
       "1970-01-01 20:30:00                 9\n",
       "1970-01-01 20:45:00                 7\n",
       "1970-01-01 21:00:00                 1"
      ]
     },
     "execution_count": 4,
     "metadata": {},
     "output_type": "execute_result"
    }
   ],
   "source": [
    "#Set the login_time column as index\n",
    "df.set_index('login_time', inplace=True)\n",
    "\n",
    "#Create a column to count every login_time \n",
    "df['login_time_count'] = 1\n",
    "\n",
    "df.sort_index(inplace=True)\n",
    "\n",
    "#Make 15 min intervals \n",
    "df = df.resample('15min').sum()\n",
    "\n",
    "#Check the dataset\n",
    "df.head()"
   ]
  },
  {
   "cell_type": "code",
   "execution_count": 5,
   "metadata": {},
   "outputs": [
    {
     "data": {
      "text/plain": [
       "<matplotlib.axes._subplots.AxesSubplot at 0x223d8baa5c8>"
      ]
     },
     "execution_count": 5,
     "metadata": {},
     "output_type": "execute_result"
    },
    {
     "data": {
      "image/png": "[encoded data removed]",
      "text/plain": [
       "<Figure size 432x288 with 1 Axes>"
      ]
     },
     "metadata": {
      "needs_background": "light"
     },
     "output_type": "display_data"
    }
   ],
   "source": [
    "#Check for plot as a general. \n",
    "#According to the plot result, we can not say that there is a clear pattern.\n",
    "df.plot()"
   ]
  },
  {
   "cell_type": "code",
   "execution_count": 7,
   "metadata": {},
   "outputs": [
    {
     "data": {
      "image/png": "[encoded data removed]",
      "text/plain": [
       "<Figure size 720x360 with 1 Axes>"
      ]
     },
     "metadata": {
      "needs_background": "light"
     },
     "output_type": "display_data"
    }
   ],
   "source": [
    "#Check for daily mean for login_time\n",
    "#It will be seen that there is a pattern at pick points for days\n",
    "df.resample(\"D\").mean().plot(style=\"-o\", figsize=(10, 5));"
   ]
  },
  {
   "cell_type": "code",
   "execution_count": 8,
   "metadata": {},
   "outputs": [
    {
     "name": "stderr",
     "output_type": "stream",
     "text": [
      "C:\\Users\\kurt_\\AppData\\Local\\Continuum\\anaconda3\\lib\\site-packages\\ipykernel_launcher.py:14: MatplotlibDeprecationWarning: Support for uppercase single-letter colors is deprecated since Matplotlib 3.1 and will be removed in 3.3; please use lowercase instead.\n",
      "  \n",
      "C:\\Users\\kurt_\\AppData\\Local\\Continuum\\anaconda3\\lib\\site-packages\\ipykernel_launcher.py:15: MatplotlibDeprecationWarning: Support for uppercase single-letter colors is deprecated since Matplotlib 3.1 and will be removed in 3.3; please use lowercase instead.\n",
      "  from ipykernel import kernelapp as app\n",
      "C:\\Users\\kurt_\\AppData\\Local\\Continuum\\anaconda3\\lib\\site-packages\\ipykernel_launcher.py:16: MatplotlibDeprecationWarning: Support for uppercase single-letter colors is deprecated since Matplotlib 3.1 and will be removed in 3.3; please use lowercase instead.\n",
      "  app.launch_new_instance()\n"
     ]
    },
    {
     "data": {
      "image/png": "[encoded data removed]",
      "text/plain": [
       "<Figure size 1080x720 with 1 Axes>"
      ]
     },
     "metadata": {
      "needs_background": "light"
     },
     "output_type": "display_data"
    }
   ],
   "source": [
    "#The pattern is still not clear \n",
    "#Check for specific days and times and peak points\n",
    "weekday = df.resample('D').sum()\n",
    "fri = df.resample('W-FRI').sum()\n",
    "sat = df.resample('W-SAT').sum()\n",
    "sun = df.resample('W-SUN').sum()\n",
    "\n",
    "fig, ax = plt.subplots(figsize=(15, 10))\n",
    "plt.xlabel('Time', fontsize=18)\n",
    "plt.ylabel('Number of logins', fontsize=18)\n",
    "plt.title('Logins over time', fontsize=18)\n",
    "\n",
    "plt.scatter(weekday.index, weekday.login_time_count, label='weekday')\n",
    "plt.bar(fri.index, fri.login_time_count, color='Y', width=0.2, label='fri')\n",
    "plt.bar(sat.index, sat.login_time_count, color='R', width=0.2, label='sat')\n",
    "plt.bar(sun.index, sun.login_time_count, color='G', width=0.2, label='sun')\n",
    "plt.legend(loc='best')\n",
    "\n",
    "plt.show()"
   ]
  },
  {
   "cell_type": "code",
   "execution_count": 26,
   "metadata": {},
   "outputs": [
    {
     "data": {
      "image/png": "[encoded data removed]",
      "text/plain": [
       "<Figure size 1080x720 with 1 Axes>"
      ]
     },
     "metadata": {
      "needs_background": "light"
     },
     "output_type": "display_data"
    }
   ],
   "source": [
    "#It is clear from the graph that the pick days for login_date are fri, sat and sun.\n",
    "#Check for the times for fri, sat and sun.\n",
    "x = fri.resample('H').max()\n",
    "y = sat.resample('H').max()\n",
    "z = sun.resample('H').max()\n",
    "\n",
    "fig, ax = plt.subplots(figsize=(15, 10))\n",
    "plt.xlabel('Max login hours')\n",
    "\n",
    "plt.bar(x.index, x.login_time_count, label='Fri')\n",
    "plt.bar(y.index, y.login_time_count, label='Sat')\n",
    "plt.bar(z.index, z.login_time_count, label='Sun')\n",
    "\n",
    "plt.tight_layout()\n",
    "plt.legend(loc='best')\n",
    "plt.show()"
   ]
  },
  {
   "cell_type": "code",
   "execution_count": 37,
   "metadata": {},
   "outputs": [
    {
     "data": {
      "image/png": "[encoded data removed]",
      "text/plain": [
       "<Figure size 720x432 with 1 Axes>"
      ]
     },
     "metadata": {
      "needs_background": "light"
     },
     "output_type": "display_data"
    }
   ],
   "source": [
    "#Check again specifically for two weeks.\n",
    "#It will be seen that login demand is low in weekdays and it is higher on weekands.\n",
    "days = df.loc['1970-03-01':'1970-03-17'].rolling(window=96).mean()\n",
    "days.plot(figsize=(10, 6))\n",
    "plt.show()"
   ]
  },
  {
   "cell_type": "code",
   "execution_count": 49,
   "metadata": {},
   "outputs": [
    {
     "data": {
      "image/png": "[encoded data removed]",
      "text/plain": [
       "<Figure size 576x432 with 1 Axes>"
      ]
     },
     "metadata": {
      "needs_background": "light"
     },
     "output_type": "display_data"
    }
   ],
   "source": [
    "#Check for maximum hours for weekends.\n",
    "#It will seen that the maximum demand hours for weekend is midnights.\n",
    "max_hrs = df.loc['1970-03-06':'1970-03-09']\n",
    "max_hrs.plot(figsize=(8, 6))\n",
    "plt.show()"
   ]
  },
  {
   "cell_type": "code",
   "execution_count": 51,
   "metadata": {},
   "outputs": [
    {
     "data": {
      "image/png": "[encoded data removed]",
      "text/plain": [
       "<Figure size 432x288 with 1 Axes>"
      ]
     },
     "metadata": {
      "needs_background": "light"
     },
     "output_type": "display_data"
    }
   ],
   "source": [
    "#Check for the maximum hours for weekdays.\n",
    "#It will be seen that the maximum demand hours for weekdays are noon and midnight.\n",
    "max_hrs_wkdys = df.loc['1970-03-10':'1970-03-13'] \n",
    "max_hrs_wkdys.plot()\n",
    "plt.show()"
   ]
  },
  {
   "cell_type": "markdown",
   "metadata": {},
   "source": [
    "# Part-2"
   ]
  },
  {
   "cell_type": "markdown",
   "metadata": {},
   "source": [
    "The neighboring cities of Gotham and Metropolis have complementary circadian rhythms: on\n",
    "weekdays, Ultimate Gotham is most active at night, and Ultimate Metropolis is most active\n",
    "during the day. On weekends, there is reasonable activity in both cities.\n",
    "However, a toll bridge, with a two­way toll, between the two cities causes driver partners to tend\n",
    "to be exclusive to each city. The Ultimate managers of city operations for the two cities have\n",
    "proposed an experiment to encourage driver partners to be available in both cities, by\n",
    "reimbursing all toll costs.\n"
   ]
  },
  {
   "cell_type": "markdown",
   "metadata": {},
   "source": [
    "1. What would you choose as the key measure of success of this experiment in\n",
    "encouraging driver partners to serve both cities, and why would you choose this metric?"
   ]
  },
  {
   "cell_type": "markdown",
   "metadata": {},
   "source": [
    "It is known that Ultimate Gotham is the most active at night and Ultimate Metropolis is the most active during the day. Also, the driver partners' activity which is the number of times the driver has crossed the bridge, is known. So, comparing before and after reimbursement data, we can find the result if experiment is successfull or not."
   ]
  },
  {
   "cell_type": "markdown",
   "metadata": {},
   "source": [
    "2. Describe a practical experiment you would design to compare the effectiveness of the\n",
    "proposed change in relation to the key measure of success. Please provide details on:\n",
    "\n",
    "a. how you will implement the experiment"
   ]
  },
  {
   "cell_type": "markdown",
   "metadata": {},
   "source": [
    "For this question, one-sample z-test is used to test the weather the mean of after-reimbursement data greater than or less than, or not equal to before-reimbursement. We will think two hypothesis here:\n",
    "\n",
    "H0: It will represent the no effect, which means there will be no difference between number of times driver has crossed the bridge before and after reimbursement.\n",
    "\n",
    "H1: It will represent the success, which means there will be sufficient difference between number of times driver has crossed the bridge before and after reimbursement."
   ]
  },
  {
   "cell_type": "markdown",
   "metadata": {},
   "source": [
    "b. what statistical test(s) you will conduct to verify the significance of the\n",
    "observation"
   ]
  },
  {
   "cell_type": "markdown",
   "metadata": {},
   "source": [
    "One-tailed z test is applied to determine if there is a difference between two groups in a specific direction. The p-value, will show how likely the data could have occurred under the null hypothesis. If our p-value is under 0.05, means the reimbursement is successful. There is enough difference between before-after dataset. If p-value is above 0.05, it means the experiment is not successfull. There is not enough difference between two datasets."
   ]
  },
  {
   "cell_type": "markdown",
   "metadata": {},
   "source": [
    "c. how you would interpret the results and provide recommendations to the city\n",
    "operations team along with any caveats."
   ]
  },
  {
   "cell_type": "markdown",
   "metadata": {},
   "source": [
    "If the p-value is under 0.05, I would recommend the continue of reimbursement with the caveat that the test should be repeated after a limited time. \n",
    "\n",
    "If the p-value is above the 0.05, I would recommend to reject the reimbursement and find another solution."
   ]
  },
  {
   "cell_type": "markdown",
   "metadata": {},
   "source": [
    "# Part-3"
   ]
  },
  {
   "cell_type": "code",
   "execution_count": 2,
   "metadata": {},
   "outputs": [
    {
     "data": {
      "text/html": [
       "<div>\n",
       "<style scoped>\n",
       "    .dataframe tbody tr th:only-of-type {\n",
       "        vertical-align: middle;\n",
       "    }\n",
       "\n",
       "    .dataframe tbody tr th {\n",
       "        vertical-align: top;\n",
       "    }\n",
       "\n",
       "    .dataframe thead th {\n",
       "        text-align: right;\n",
       "    }\n",
       "</style>\n",
       "<table border=\"1\" class=\"dataframe\">\n",
       "  <thead>\n",
       "    <tr style=\"text-align: right;\">\n",
       "      <th></th>\n",
       "      <th>city</th>\n",
       "      <th>trips_in_first_30_days</th>\n",
       "      <th>signup_date</th>\n",
       "      <th>avg_rating_of_driver</th>\n",
       "      <th>avg_surge</th>\n",
       "      <th>last_trip_date</th>\n",
       "      <th>phone</th>\n",
       "      <th>surge_pct</th>\n",
       "      <th>ultimate_black_user</th>\n",
       "      <th>weekday_pct</th>\n",
       "      <th>avg_dist</th>\n",
       "      <th>avg_rating_by_driver</th>\n",
       "    </tr>\n",
       "  </thead>\n",
       "  <tbody>\n",
       "    <tr>\n",
       "      <th>0</th>\n",
       "      <td>King's Landing</td>\n",
       "      <td>4</td>\n",
       "      <td>2014-01-25</td>\n",
       "      <td>4.7</td>\n",
       "      <td>1.10</td>\n",
       "      <td>2014-06-17</td>\n",
       "      <td>iPhone</td>\n",
       "      <td>15.4</td>\n",
       "      <td>True</td>\n",
       "      <td>46.2</td>\n",
       "      <td>3.67</td>\n",
       "      <td>5.0</td>\n",
       "    </tr>\n",
       "    <tr>\n",
       "      <th>1</th>\n",
       "      <td>Astapor</td>\n",
       "      <td>0</td>\n",
       "      <td>2014-01-29</td>\n",
       "      <td>5.0</td>\n",
       "      <td>1.00</td>\n",
       "      <td>2014-05-05</td>\n",
       "      <td>Android</td>\n",
       "      <td>0.0</td>\n",
       "      <td>False</td>\n",
       "      <td>50.0</td>\n",
       "      <td>8.26</td>\n",
       "      <td>5.0</td>\n",
       "    </tr>\n",
       "    <tr>\n",
       "      <th>2</th>\n",
       "      <td>Astapor</td>\n",
       "      <td>3</td>\n",
       "      <td>2014-01-06</td>\n",
       "      <td>4.3</td>\n",
       "      <td>1.00</td>\n",
       "      <td>2014-01-07</td>\n",
       "      <td>iPhone</td>\n",
       "      <td>0.0</td>\n",
       "      <td>False</td>\n",
       "      <td>100.0</td>\n",
       "      <td>0.77</td>\n",
       "      <td>5.0</td>\n",
       "    </tr>\n",
       "    <tr>\n",
       "      <th>3</th>\n",
       "      <td>King's Landing</td>\n",
       "      <td>9</td>\n",
       "      <td>2014-01-10</td>\n",
       "      <td>4.6</td>\n",
       "      <td>1.14</td>\n",
       "      <td>2014-06-29</td>\n",
       "      <td>iPhone</td>\n",
       "      <td>20.0</td>\n",
       "      <td>True</td>\n",
       "      <td>80.0</td>\n",
       "      <td>2.36</td>\n",
       "      <td>4.9</td>\n",
       "    </tr>\n",
       "    <tr>\n",
       "      <th>4</th>\n",
       "      <td>Winterfell</td>\n",
       "      <td>14</td>\n",
       "      <td>2014-01-27</td>\n",
       "      <td>4.4</td>\n",
       "      <td>1.19</td>\n",
       "      <td>2014-03-15</td>\n",
       "      <td>Android</td>\n",
       "      <td>11.8</td>\n",
       "      <td>False</td>\n",
       "      <td>82.4</td>\n",
       "      <td>3.13</td>\n",
       "      <td>4.9</td>\n",
       "    </tr>\n",
       "  </tbody>\n",
       "</table>\n",
       "</div>"
      ],
      "text/plain": [
       "             city  trips_in_first_30_days signup_date  avg_rating_of_driver  \\\n",
       "0  King's Landing                       4  2014-01-25                   4.7   \n",
       "1         Astapor                       0  2014-01-29                   5.0   \n",
       "2         Astapor                       3  2014-01-06                   4.3   \n",
       "3  King's Landing                       9  2014-01-10                   4.6   \n",
       "4      Winterfell                      14  2014-01-27                   4.4   \n",
       "\n",
       "   avg_surge last_trip_date    phone  surge_pct  ultimate_black_user  \\\n",
       "0       1.10     2014-06-17   iPhone       15.4                 True   \n",
       "1       1.00     2014-05-05  Android        0.0                False   \n",
       "2       1.00     2014-01-07   iPhone        0.0                False   \n",
       "3       1.14     2014-06-29   iPhone       20.0                 True   \n",
       "4       1.19     2014-03-15  Android       11.8                False   \n",
       "\n",
       "   weekday_pct  avg_dist  avg_rating_by_driver  \n",
       "0         46.2      3.67                   5.0  \n",
       "1         50.0      8.26                   5.0  \n",
       "2        100.0      0.77                   5.0  \n",
       "3         80.0      2.36                   4.9  \n",
       "4         82.4      3.13                   4.9  "
      ]
     },
     "execution_count": 2,
     "metadata": {},
     "output_type": "execute_result"
    }
   ],
   "source": [
    "#The first step for this project is to find the fraction of the observed users were retained\n",
    "#Load the dataset\n",
    "data = pd.read_json('ultimate_data_challenge.json')\n",
    "data.head()"
   ]
  },
  {
   "cell_type": "code",
   "execution_count": 3,
   "metadata": {},
   "outputs": [
    {
     "name": "stdout",
     "output_type": "stream",
     "text": [
      "<class 'pandas.core.frame.DataFrame'>\n",
      "RangeIndex: 50000 entries, 0 to 49999\n",
      "Data columns (total 12 columns):\n",
      " #   Column                  Non-Null Count  Dtype  \n",
      "---  ------                  --------------  -----  \n",
      " 0   city                    50000 non-null  object \n",
      " 1   trips_in_first_30_days  50000 non-null  int64  \n",
      " 2   signup_date             50000 non-null  object \n",
      " 3   avg_rating_of_driver    41878 non-null  float64\n",
      " 4   avg_surge               50000 non-null  float64\n",
      " 5   last_trip_date          50000 non-null  object \n",
      " 6   phone                   49604 non-null  object \n",
      " 7   surge_pct               50000 non-null  float64\n",
      " 8   ultimate_black_user     50000 non-null  bool   \n",
      " 9   weekday_pct             50000 non-null  float64\n",
      " 10  avg_dist                50000 non-null  float64\n",
      " 11  avg_rating_by_driver    49799 non-null  float64\n",
      "dtypes: bool(1), float64(6), int64(1), object(4)\n",
      "memory usage: 4.2+ MB\n"
     ]
    }
   ],
   "source": [
    "#Check for the dataset\n",
    "data.info()"
   ]
  },
  {
   "cell_type": "code",
   "execution_count": 4,
   "metadata": {},
   "outputs": [
    {
     "data": {
      "text/plain": [
       "city                         0\n",
       "trips_in_first_30_days       0\n",
       "signup_date                  0\n",
       "avg_rating_of_driver      8122\n",
       "avg_surge                    0\n",
       "last_trip_date               0\n",
       "phone                      396\n",
       "surge_pct                    0\n",
       "ultimate_black_user          0\n",
       "weekday_pct                  0\n",
       "avg_dist                     0\n",
       "avg_rating_by_driver       201\n",
       "dtype: int64"
      ]
     },
     "execution_count": 4,
     "metadata": {},
     "output_type": "execute_result"
    }
   ],
   "source": [
    "#It will be seen that there are NULL values in: avg_rating_of_driver, phone and avg_rating_by_driver.\n",
    "#According to the next steps, if these columns are used, NULL values will be handled.\n",
    "data.isnull().sum()"
   ]
  },
  {
   "cell_type": "code",
   "execution_count": 5,
   "metadata": {},
   "outputs": [
    {
     "data": {
      "text/html": [
       "<div>\n",
       "<style scoped>\n",
       "    .dataframe tbody tr th:only-of-type {\n",
       "        vertical-align: middle;\n",
       "    }\n",
       "\n",
       "    .dataframe tbody tr th {\n",
       "        vertical-align: top;\n",
       "    }\n",
       "\n",
       "    .dataframe thead th {\n",
       "        text-align: right;\n",
       "    }\n",
       "</style>\n",
       "<table border=\"1\" class=\"dataframe\">\n",
       "  <thead>\n",
       "    <tr style=\"text-align: right;\">\n",
       "      <th></th>\n",
       "      <th>trips_in_first_30_days</th>\n",
       "      <th>avg_rating_of_driver</th>\n",
       "      <th>avg_surge</th>\n",
       "      <th>surge_pct</th>\n",
       "      <th>weekday_pct</th>\n",
       "      <th>avg_dist</th>\n",
       "      <th>avg_rating_by_driver</th>\n",
       "    </tr>\n",
       "  </thead>\n",
       "  <tbody>\n",
       "    <tr>\n",
       "      <th>count</th>\n",
       "      <td>50000.000000</td>\n",
       "      <td>41878.000000</td>\n",
       "      <td>50000.000000</td>\n",
       "      <td>50000.000000</td>\n",
       "      <td>50000.000000</td>\n",
       "      <td>50000.000000</td>\n",
       "      <td>49799.000000</td>\n",
       "    </tr>\n",
       "    <tr>\n",
       "      <th>mean</th>\n",
       "      <td>2.278200</td>\n",
       "      <td>4.601559</td>\n",
       "      <td>1.074764</td>\n",
       "      <td>8.849536</td>\n",
       "      <td>60.926084</td>\n",
       "      <td>5.796827</td>\n",
       "      <td>4.778158</td>\n",
       "    </tr>\n",
       "    <tr>\n",
       "      <th>std</th>\n",
       "      <td>3.792684</td>\n",
       "      <td>0.617338</td>\n",
       "      <td>0.222336</td>\n",
       "      <td>19.958811</td>\n",
       "      <td>37.081503</td>\n",
       "      <td>5.707357</td>\n",
       "      <td>0.446652</td>\n",
       "    </tr>\n",
       "    <tr>\n",
       "      <th>min</th>\n",
       "      <td>0.000000</td>\n",
       "      <td>1.000000</td>\n",
       "      <td>1.000000</td>\n",
       "      <td>0.000000</td>\n",
       "      <td>0.000000</td>\n",
       "      <td>0.000000</td>\n",
       "      <td>1.000000</td>\n",
       "    </tr>\n",
       "    <tr>\n",
       "      <th>25%</th>\n",
       "      <td>0.000000</td>\n",
       "      <td>4.300000</td>\n",
       "      <td>1.000000</td>\n",
       "      <td>0.000000</td>\n",
       "      <td>33.300000</td>\n",
       "      <td>2.420000</td>\n",
       "      <td>4.700000</td>\n",
       "    </tr>\n",
       "    <tr>\n",
       "      <th>50%</th>\n",
       "      <td>1.000000</td>\n",
       "      <td>4.900000</td>\n",
       "      <td>1.000000</td>\n",
       "      <td>0.000000</td>\n",
       "      <td>66.700000</td>\n",
       "      <td>3.880000</td>\n",
       "      <td>5.000000</td>\n",
       "    </tr>\n",
       "    <tr>\n",
       "      <th>75%</th>\n",
       "      <td>3.000000</td>\n",
       "      <td>5.000000</td>\n",
       "      <td>1.050000</td>\n",
       "      <td>8.600000</td>\n",
       "      <td>100.000000</td>\n",
       "      <td>6.940000</td>\n",
       "      <td>5.000000</td>\n",
       "    </tr>\n",
       "    <tr>\n",
       "      <th>max</th>\n",
       "      <td>125.000000</td>\n",
       "      <td>5.000000</td>\n",
       "      <td>8.000000</td>\n",
       "      <td>100.000000</td>\n",
       "      <td>100.000000</td>\n",
       "      <td>160.960000</td>\n",
       "      <td>5.000000</td>\n",
       "    </tr>\n",
       "  </tbody>\n",
       "</table>\n",
       "</div>"
      ],
      "text/plain": [
       "       trips_in_first_30_days  avg_rating_of_driver     avg_surge  \\\n",
       "count            50000.000000          41878.000000  50000.000000   \n",
       "mean                 2.278200              4.601559      1.074764   \n",
       "std                  3.792684              0.617338      0.222336   \n",
       "min                  0.000000              1.000000      1.000000   \n",
       "25%                  0.000000              4.300000      1.000000   \n",
       "50%                  1.000000              4.900000      1.000000   \n",
       "75%                  3.000000              5.000000      1.050000   \n",
       "max                125.000000              5.000000      8.000000   \n",
       "\n",
       "          surge_pct   weekday_pct      avg_dist  avg_rating_by_driver  \n",
       "count  50000.000000  50000.000000  50000.000000          49799.000000  \n",
       "mean       8.849536     60.926084      5.796827              4.778158  \n",
       "std       19.958811     37.081503      5.707357              0.446652  \n",
       "min        0.000000      0.000000      0.000000              1.000000  \n",
       "25%        0.000000     33.300000      2.420000              4.700000  \n",
       "50%        0.000000     66.700000      3.880000              5.000000  \n",
       "75%        8.600000    100.000000      6.940000              5.000000  \n",
       "max      100.000000    100.000000    160.960000              5.000000  "
      ]
     },
     "execution_count": 5,
     "metadata": {},
     "output_type": "execute_result"
    }
   ],
   "source": [
    "data.describe()"
   ]
  },
  {
   "cell_type": "code",
   "execution_count": 3,
   "metadata": {},
   "outputs": [],
   "source": [
    "#Convert the dates to datetime objects.\n",
    "data.signup_date = pd.to_datetime(data.signup_date)\n",
    "data.last_trip_date = pd.to_datetime(data.last_trip_date)"
   ]
  },
  {
   "cell_type": "code",
   "execution_count": 4,
   "metadata": {},
   "outputs": [
    {
     "name": "stderr",
     "output_type": "stream",
     "text": [
      "C:\\Users\\kurt_\\AppData\\Local\\Continuum\\anaconda3\\lib\\site-packages\\ipykernel_launcher.py:3: FutureWarning: Treating datetime data as categorical rather than numeric in `.describe` is deprecated and will be removed in a future version of pandas. Specify `datetime_is_numeric=True` to silence this warning and adopt the future behavior now.\n",
      "  This is separate from the ipykernel package so we can avoid doing imports until\n"
     ]
    },
    {
     "data": {
      "text/plain": [
       "count                   50000\n",
       "unique                    182\n",
       "top       2014-06-29 00:00:00\n",
       "freq                     2036\n",
       "first     2014-01-01 00:00:00\n",
       "last      2014-07-01 00:00:00\n",
       "Name: last_trip_date, dtype: object"
      ]
     },
     "execution_count": 4,
     "metadata": {},
     "output_type": "execute_result"
    }
   ],
   "source": [
    "#To find the fraction of the observed users were retained, last_trip_date will be examined.\n",
    "#According to the result, the last trip is July 1.\n",
    "data.last_trip_date.describe()"
   ]
  },
  {
   "cell_type": "code",
   "execution_count": 5,
   "metadata": {},
   "outputs": [
    {
     "data": {
      "text/plain": [
       "36.620000000000005"
      ]
     },
     "execution_count": 5,
     "metadata": {},
     "output_type": "execute_result"
    }
   ],
   "source": [
    "#If users were active in the last 30 days, it means the user is retained. \n",
    "#To find the fraction of the observed users were 'retained', the last 30 days need to be separated.\n",
    "bfr_lst_30_days = data.last_trip_date - timedelta(days=30)\n",
    "\n",
    "#Substract the bfr_last_30_days' max value from the last_trip_date which will give us the last 30 days to find the 'retained' fraction. \n",
    "fraction = (data.last_trip_date > bfr_lst_30_days.max()).sum() / (data.last_trip_date > bfr_lst_30_days.max()).count()\n",
    "fraction*100"
   ]
  },
  {
   "cell_type": "markdown",
   "metadata": {},
   "source": [
    "*  36.62 percent of the observed users were retained."
   ]
  },
  {
   "cell_type": "code",
   "execution_count": 6,
   "metadata": {},
   "outputs": [
    {
     "data": {
      "text/plain": [
       "0    1\n",
       "1    0\n",
       "2    0\n",
       "3    1\n",
       "4    0\n",
       "Name: activity, dtype: object"
      ]
     },
     "execution_count": 6,
     "metadata": {},
     "output_type": "execute_result"
    }
   ],
   "source": [
    "#The second step is to determine whether or not a user will be active in their 6th month on the system.\n",
    "#To prepare the dataset create a column which will show the users' activity, means one is retained or not.\n",
    "i = data.last_trip_date > bfr_lst_30_days.max()\n",
    "i.iloc[i == True] = 1\n",
    "i.iloc[i == False] = 0\n",
    "data['activity'] = i\n",
    "data.activity.head()"
   ]
  },
  {
   "cell_type": "code",
   "execution_count": 10,
   "metadata": {},
   "outputs": [
    {
     "name": "stdout",
     "output_type": "stream",
     "text": [
      "<class 'pandas.core.frame.DataFrame'>\n",
      "RangeIndex: 50000 entries, 0 to 49999\n",
      "Data columns (total 13 columns):\n",
      " #   Column                  Non-Null Count  Dtype         \n",
      "---  ------                  --------------  -----         \n",
      " 0   city                    50000 non-null  object        \n",
      " 1   trips_in_first_30_days  50000 non-null  int64         \n",
      " 2   signup_date             50000 non-null  datetime64[ns]\n",
      " 3   avg_rating_of_driver    41878 non-null  float64       \n",
      " 4   avg_surge               50000 non-null  float64       \n",
      " 5   last_trip_date          50000 non-null  datetime64[ns]\n",
      " 6   phone                   49604 non-null  object        \n",
      " 7   surge_pct               50000 non-null  float64       \n",
      " 8   ultimate_black_user     50000 non-null  bool          \n",
      " 9   weekday_pct             50000 non-null  float64       \n",
      " 10  avg_dist                50000 non-null  float64       \n",
      " 11  avg_rating_by_driver    49799 non-null  float64       \n",
      " 12  activity                50000 non-null  object        \n",
      "dtypes: bool(1), datetime64[ns](2), float64(6), int64(1), object(3)\n",
      "memory usage: 4.6+ MB\n"
     ]
    }
   ],
   "source": [
    "data.info()"
   ]
  },
  {
   "cell_type": "code",
   "execution_count": 7,
   "metadata": {},
   "outputs": [
    {
     "data": {
      "text/html": [
       "<div>\n",
       "<style scoped>\n",
       "    .dataframe tbody tr th:only-of-type {\n",
       "        vertical-align: middle;\n",
       "    }\n",
       "\n",
       "    .dataframe tbody tr th {\n",
       "        vertical-align: top;\n",
       "    }\n",
       "\n",
       "    .dataframe thead th {\n",
       "        text-align: right;\n",
       "    }\n",
       "</style>\n",
       "<table border=\"1\" class=\"dataframe\">\n",
       "  <thead>\n",
       "    <tr style=\"text-align: right;\">\n",
       "      <th></th>\n",
       "      <th>trips_in_first_30_days</th>\n",
       "      <th>signup_date</th>\n",
       "      <th>avg_rating_of_driver</th>\n",
       "      <th>avg_surge</th>\n",
       "      <th>last_trip_date</th>\n",
       "      <th>surge_pct</th>\n",
       "      <th>ultimate_black_user</th>\n",
       "      <th>weekday_pct</th>\n",
       "      <th>avg_dist</th>\n",
       "      <th>avg_rating_by_driver</th>\n",
       "      <th>activity</th>\n",
       "      <th>phone_Android</th>\n",
       "      <th>phone_iPhone</th>\n",
       "      <th>phone_unknown</th>\n",
       "      <th>city_Astapor</th>\n",
       "      <th>city_King's Landing</th>\n",
       "      <th>city_Winterfell</th>\n",
       "    </tr>\n",
       "  </thead>\n",
       "  <tbody>\n",
       "    <tr>\n",
       "      <th>0</th>\n",
       "      <td>4</td>\n",
       "      <td>2014-01-25</td>\n",
       "      <td>4.7</td>\n",
       "      <td>1.10</td>\n",
       "      <td>2014-06-17</td>\n",
       "      <td>15.4</td>\n",
       "      <td>True</td>\n",
       "      <td>46.2</td>\n",
       "      <td>3.67</td>\n",
       "      <td>5.0</td>\n",
       "      <td>1</td>\n",
       "      <td>0</td>\n",
       "      <td>1</td>\n",
       "      <td>0</td>\n",
       "      <td>0</td>\n",
       "      <td>1</td>\n",
       "      <td>0</td>\n",
       "    </tr>\n",
       "    <tr>\n",
       "      <th>1</th>\n",
       "      <td>0</td>\n",
       "      <td>2014-01-29</td>\n",
       "      <td>5.0</td>\n",
       "      <td>1.00</td>\n",
       "      <td>2014-05-05</td>\n",
       "      <td>0.0</td>\n",
       "      <td>False</td>\n",
       "      <td>50.0</td>\n",
       "      <td>8.26</td>\n",
       "      <td>5.0</td>\n",
       "      <td>0</td>\n",
       "      <td>1</td>\n",
       "      <td>0</td>\n",
       "      <td>0</td>\n",
       "      <td>1</td>\n",
       "      <td>0</td>\n",
       "      <td>0</td>\n",
       "    </tr>\n",
       "    <tr>\n",
       "      <th>2</th>\n",
       "      <td>3</td>\n",
       "      <td>2014-01-06</td>\n",
       "      <td>4.3</td>\n",
       "      <td>1.00</td>\n",
       "      <td>2014-01-07</td>\n",
       "      <td>0.0</td>\n",
       "      <td>False</td>\n",
       "      <td>100.0</td>\n",
       "      <td>0.77</td>\n",
       "      <td>5.0</td>\n",
       "      <td>0</td>\n",
       "      <td>0</td>\n",
       "      <td>1</td>\n",
       "      <td>0</td>\n",
       "      <td>1</td>\n",
       "      <td>0</td>\n",
       "      <td>0</td>\n",
       "    </tr>\n",
       "    <tr>\n",
       "      <th>3</th>\n",
       "      <td>9</td>\n",
       "      <td>2014-01-10</td>\n",
       "      <td>4.6</td>\n",
       "      <td>1.14</td>\n",
       "      <td>2014-06-29</td>\n",
       "      <td>20.0</td>\n",
       "      <td>True</td>\n",
       "      <td>80.0</td>\n",
       "      <td>2.36</td>\n",
       "      <td>4.9</td>\n",
       "      <td>1</td>\n",
       "      <td>0</td>\n",
       "      <td>1</td>\n",
       "      <td>0</td>\n",
       "      <td>0</td>\n",
       "      <td>1</td>\n",
       "      <td>0</td>\n",
       "    </tr>\n",
       "    <tr>\n",
       "      <th>4</th>\n",
       "      <td>14</td>\n",
       "      <td>2014-01-27</td>\n",
       "      <td>4.4</td>\n",
       "      <td>1.19</td>\n",
       "      <td>2014-03-15</td>\n",
       "      <td>11.8</td>\n",
       "      <td>False</td>\n",
       "      <td>82.4</td>\n",
       "      <td>3.13</td>\n",
       "      <td>4.9</td>\n",
       "      <td>0</td>\n",
       "      <td>1</td>\n",
       "      <td>0</td>\n",
       "      <td>0</td>\n",
       "      <td>0</td>\n",
       "      <td>0</td>\n",
       "      <td>1</td>\n",
       "    </tr>\n",
       "  </tbody>\n",
       "</table>\n",
       "</div>"
      ],
      "text/plain": [
       "   trips_in_first_30_days signup_date  avg_rating_of_driver  avg_surge  \\\n",
       "0                       4  2014-01-25                   4.7       1.10   \n",
       "1                       0  2014-01-29                   5.0       1.00   \n",
       "2                       3  2014-01-06                   4.3       1.00   \n",
       "3                       9  2014-01-10                   4.6       1.14   \n",
       "4                      14  2014-01-27                   4.4       1.19   \n",
       "\n",
       "  last_trip_date  surge_pct  ultimate_black_user  weekday_pct  avg_dist  \\\n",
       "0     2014-06-17       15.4                 True         46.2      3.67   \n",
       "1     2014-05-05        0.0                False         50.0      8.26   \n",
       "2     2014-01-07        0.0                False        100.0      0.77   \n",
       "3     2014-06-29       20.0                 True         80.0      2.36   \n",
       "4     2014-03-15       11.8                False         82.4      3.13   \n",
       "\n",
       "   avg_rating_by_driver  activity  phone_Android  phone_iPhone  phone_unknown  \\\n",
       "0                   5.0         1              0             1              0   \n",
       "1                   5.0         0              1             0              0   \n",
       "2                   5.0         0              0             1              0   \n",
       "3                   4.9         1              0             1              0   \n",
       "4                   4.9         0              1             0              0   \n",
       "\n",
       "   city_Astapor  city_King's Landing  city_Winterfell  \n",
       "0             0                    1                0  \n",
       "1             1                    0                0  \n",
       "2             1                    0                0  \n",
       "3             0                    1                0  \n",
       "4             0                    0                1  "
      ]
     },
     "execution_count": 7,
     "metadata": {},
     "output_type": "execute_result"
    }
   ],
   "source": [
    "#Check for non numerical features: city and phone\n",
    "#Phone column has NULL values, first fill it with 'unknown'\n",
    "#Convert the objects to categorical data.\n",
    "data.phone.fillna('unknown', inplace=True)\n",
    "\n",
    "#One-hot-encoding\n",
    "data = pd.get_dummies(data, columns=['phone', 'city'])\n",
    "\n",
    "#Convert the 'activity' column to numeric values.\n",
    "data['activity'] = pd.to_numeric(data.activity)\n",
    "\n",
    "data.head()"
   ]
  },
  {
   "cell_type": "code",
   "execution_count": 9,
   "metadata": {},
   "outputs": [
    {
     "data": {
      "text/html": [
       "<div>\n",
       "<style scoped>\n",
       "    .dataframe tbody tr th:only-of-type {\n",
       "        vertical-align: middle;\n",
       "    }\n",
       "\n",
       "    .dataframe tbody tr th {\n",
       "        vertical-align: top;\n",
       "    }\n",
       "\n",
       "    .dataframe thead th {\n",
       "        text-align: right;\n",
       "    }\n",
       "</style>\n",
       "<table border=\"1\" class=\"dataframe\">\n",
       "  <thead>\n",
       "    <tr style=\"text-align: right;\">\n",
       "      <th></th>\n",
       "      <th>trips_in_first_30_days</th>\n",
       "      <th>avg_rating_of_driver</th>\n",
       "      <th>avg_surge</th>\n",
       "      <th>surge_pct</th>\n",
       "      <th>ultimate_black_user</th>\n",
       "      <th>weekday_pct</th>\n",
       "      <th>avg_dist</th>\n",
       "      <th>avg_rating_by_driver</th>\n",
       "      <th>activity</th>\n",
       "      <th>phone_Android</th>\n",
       "      <th>phone_iPhone</th>\n",
       "      <th>phone_unknown</th>\n",
       "      <th>city_Astapor</th>\n",
       "      <th>city_King's Landing</th>\n",
       "      <th>city_Winterfell</th>\n",
       "    </tr>\n",
       "  </thead>\n",
       "  <tbody>\n",
       "    <tr>\n",
       "      <th>trips_in_first_30_days</th>\n",
       "      <td>1.000000</td>\n",
       "      <td>-0.011302</td>\n",
       "      <td>-0.001841</td>\n",
       "      <td>0.005720</td>\n",
       "      <td>0.112210</td>\n",
       "      <td>0.050388</td>\n",
       "      <td>-0.136329</td>\n",
       "      <td>-0.039115</td>\n",
       "      <td>0.214728</td>\n",
       "      <td>-0.059309</td>\n",
       "      <td>0.058342</td>\n",
       "      <td>0.002786</td>\n",
       "      <td>-0.061075</td>\n",
       "      <td>0.024650</td>\n",
       "      <td>0.037735</td>\n",
       "    </tr>\n",
       "    <tr>\n",
       "      <th>avg_rating_of_driver</th>\n",
       "      <td>-0.011302</td>\n",
       "      <td>1.000000</td>\n",
       "      <td>-0.026189</td>\n",
       "      <td>-0.003899</td>\n",
       "      <td>-0.002086</td>\n",
       "      <td>0.014630</td>\n",
       "      <td>0.034509</td>\n",
       "      <td>0.123175</td>\n",
       "      <td>-0.010834</td>\n",
       "      <td>0.026729</td>\n",
       "      <td>-0.026864</td>\n",
       "      <td>0.001758</td>\n",
       "      <td>0.032699</td>\n",
       "      <td>0.088392</td>\n",
       "      <td>-0.103100</td>\n",
       "    </tr>\n",
       "    <tr>\n",
       "      <th>avg_surge</th>\n",
       "      <td>-0.001841</td>\n",
       "      <td>-0.026189</td>\n",
       "      <td>1.000000</td>\n",
       "      <td>0.793582</td>\n",
       "      <td>-0.078791</td>\n",
       "      <td>-0.110071</td>\n",
       "      <td>-0.081491</td>\n",
       "      <td>0.010597</td>\n",
       "      <td>-0.003567</td>\n",
       "      <td>-0.008977</td>\n",
       "      <td>0.011104</td>\n",
       "      <td>-0.011423</td>\n",
       "      <td>0.037172</td>\n",
       "      <td>-0.009198</td>\n",
       "      <td>-0.027643</td>\n",
       "    </tr>\n",
       "    <tr>\n",
       "      <th>surge_pct</th>\n",
       "      <td>0.005720</td>\n",
       "      <td>-0.003899</td>\n",
       "      <td>0.793582</td>\n",
       "      <td>1.000000</td>\n",
       "      <td>-0.106861</td>\n",
       "      <td>-0.144918</td>\n",
       "      <td>-0.104414</td>\n",
       "      <td>0.020103</td>\n",
       "      <td>0.010612</td>\n",
       "      <td>-0.010150</td>\n",
       "      <td>0.012851</td>\n",
       "      <td>-0.014456</td>\n",
       "      <td>0.045457</td>\n",
       "      <td>0.028221</td>\n",
       "      <td>-0.065603</td>\n",
       "    </tr>\n",
       "    <tr>\n",
       "      <th>ultimate_black_user</th>\n",
       "      <td>0.112210</td>\n",
       "      <td>-0.002086</td>\n",
       "      <td>-0.078791</td>\n",
       "      <td>-0.106861</td>\n",
       "      <td>1.000000</td>\n",
       "      <td>0.035998</td>\n",
       "      <td>0.032310</td>\n",
       "      <td>0.009343</td>\n",
       "      <td>0.210259</td>\n",
       "      <td>-0.075836</td>\n",
       "      <td>0.067002</td>\n",
       "      <td>0.043145</td>\n",
       "      <td>0.021259</td>\n",
       "      <td>0.039649</td>\n",
       "      <td>-0.051990</td>\n",
       "    </tr>\n",
       "    <tr>\n",
       "      <th>weekday_pct</th>\n",
       "      <td>0.050388</td>\n",
       "      <td>0.014630</td>\n",
       "      <td>-0.110071</td>\n",
       "      <td>-0.144918</td>\n",
       "      <td>0.035998</td>\n",
       "      <td>1.000000</td>\n",
       "      <td>0.101652</td>\n",
       "      <td>0.020442</td>\n",
       "      <td>0.026413</td>\n",
       "      <td>-0.009241</td>\n",
       "      <td>0.006726</td>\n",
       "      <td>0.012753</td>\n",
       "      <td>-0.010540</td>\n",
       "      <td>0.031349</td>\n",
       "      <td>-0.015318</td>\n",
       "    </tr>\n",
       "    <tr>\n",
       "      <th>avg_dist</th>\n",
       "      <td>-0.136329</td>\n",
       "      <td>0.034509</td>\n",
       "      <td>-0.081491</td>\n",
       "      <td>-0.104414</td>\n",
       "      <td>0.032310</td>\n",
       "      <td>0.101652</td>\n",
       "      <td>1.000000</td>\n",
       "      <td>0.080540</td>\n",
       "      <td>-0.090279</td>\n",
       "      <td>0.020888</td>\n",
       "      <td>-0.025030</td>\n",
       "      <td>0.022372</td>\n",
       "      <td>-0.045431</td>\n",
       "      <td>0.015877</td>\n",
       "      <td>0.030050</td>\n",
       "    </tr>\n",
       "    <tr>\n",
       "      <th>avg_rating_by_driver</th>\n",
       "      <td>-0.039115</td>\n",
       "      <td>0.123175</td>\n",
       "      <td>0.010597</td>\n",
       "      <td>0.020103</td>\n",
       "      <td>0.009343</td>\n",
       "      <td>0.020442</td>\n",
       "      <td>0.080540</td>\n",
       "      <td>1.000000</td>\n",
       "      <td>-0.025635</td>\n",
       "      <td>0.008783</td>\n",
       "      <td>-0.010148</td>\n",
       "      <td>0.007461</td>\n",
       "      <td>0.032580</td>\n",
       "      <td>0.084648</td>\n",
       "      <td>-0.098929</td>\n",
       "    </tr>\n",
       "    <tr>\n",
       "      <th>activity</th>\n",
       "      <td>0.214728</td>\n",
       "      <td>-0.010834</td>\n",
       "      <td>-0.003567</td>\n",
       "      <td>0.010612</td>\n",
       "      <td>0.210259</td>\n",
       "      <td>0.026413</td>\n",
       "      <td>-0.090279</td>\n",
       "      <td>-0.025635</td>\n",
       "      <td>1.000000</td>\n",
       "      <td>-0.231731</td>\n",
       "      <td>0.231391</td>\n",
       "      <td>-0.007032</td>\n",
       "      <td>-0.179373</td>\n",
       "      <td>0.268272</td>\n",
       "      <td>-0.046985</td>\n",
       "    </tr>\n",
       "    <tr>\n",
       "      <th>phone_Android</th>\n",
       "      <td>-0.059309</td>\n",
       "      <td>0.026729</td>\n",
       "      <td>-0.008977</td>\n",
       "      <td>-0.010150</td>\n",
       "      <td>-0.075836</td>\n",
       "      <td>-0.009241</td>\n",
       "      <td>0.020888</td>\n",
       "      <td>0.008783</td>\n",
       "      <td>-0.231731</td>\n",
       "      <td>1.000000</td>\n",
       "      <td>-0.981471</td>\n",
       "      <td>-0.058554</td>\n",
       "      <td>0.025642</td>\n",
       "      <td>-0.059203</td>\n",
       "      <td>0.023517</td>\n",
       "    </tr>\n",
       "    <tr>\n",
       "      <th>phone_iPhone</th>\n",
       "      <td>0.058342</td>\n",
       "      <td>-0.026864</td>\n",
       "      <td>0.011104</td>\n",
       "      <td>0.012851</td>\n",
       "      <td>0.067002</td>\n",
       "      <td>0.006726</td>\n",
       "      <td>-0.025030</td>\n",
       "      <td>-0.010148</td>\n",
       "      <td>0.231391</td>\n",
       "      <td>-0.981471</td>\n",
       "      <td>1.000000</td>\n",
       "      <td>-0.133814</td>\n",
       "      <td>-0.024539</td>\n",
       "      <td>0.060520</td>\n",
       "      <td>-0.025618</td>\n",
       "    </tr>\n",
       "    <tr>\n",
       "      <th>phone_unknown</th>\n",
       "      <td>0.002786</td>\n",
       "      <td>0.001758</td>\n",
       "      <td>-0.011423</td>\n",
       "      <td>-0.014456</td>\n",
       "      <td>0.043145</td>\n",
       "      <td>0.012753</td>\n",
       "      <td>0.022372</td>\n",
       "      <td>0.007461</td>\n",
       "      <td>-0.007032</td>\n",
       "      <td>-0.058554</td>\n",
       "      <td>-0.133814</td>\n",
       "      <td>1.000000</td>\n",
       "      <td>-0.004772</td>\n",
       "      <td>-0.009111</td>\n",
       "      <td>0.011840</td>\n",
       "    </tr>\n",
       "    <tr>\n",
       "      <th>city_Astapor</th>\n",
       "      <td>-0.061075</td>\n",
       "      <td>0.032699</td>\n",
       "      <td>0.037172</td>\n",
       "      <td>0.045457</td>\n",
       "      <td>0.021259</td>\n",
       "      <td>-0.010540</td>\n",
       "      <td>-0.045431</td>\n",
       "      <td>0.032580</td>\n",
       "      <td>-0.179373</td>\n",
       "      <td>0.025642</td>\n",
       "      <td>-0.024539</td>\n",
       "      <td>-0.004772</td>\n",
       "      <td>1.000000</td>\n",
       "      <td>-0.354298</td>\n",
       "      <td>-0.657563</td>\n",
       "    </tr>\n",
       "    <tr>\n",
       "      <th>city_King's Landing</th>\n",
       "      <td>0.024650</td>\n",
       "      <td>0.088392</td>\n",
       "      <td>-0.009198</td>\n",
       "      <td>0.028221</td>\n",
       "      <td>0.039649</td>\n",
       "      <td>0.031349</td>\n",
       "      <td>0.015877</td>\n",
       "      <td>0.084648</td>\n",
       "      <td>0.268272</td>\n",
       "      <td>-0.059203</td>\n",
       "      <td>0.060520</td>\n",
       "      <td>-0.009111</td>\n",
       "      <td>-0.354298</td>\n",
       "      <td>1.000000</td>\n",
       "      <td>-0.471555</td>\n",
       "    </tr>\n",
       "    <tr>\n",
       "      <th>city_Winterfell</th>\n",
       "      <td>0.037735</td>\n",
       "      <td>-0.103100</td>\n",
       "      <td>-0.027643</td>\n",
       "      <td>-0.065603</td>\n",
       "      <td>-0.051990</td>\n",
       "      <td>-0.015318</td>\n",
       "      <td>0.030050</td>\n",
       "      <td>-0.098929</td>\n",
       "      <td>-0.046985</td>\n",
       "      <td>0.023517</td>\n",
       "      <td>-0.025618</td>\n",
       "      <td>0.011840</td>\n",
       "      <td>-0.657563</td>\n",
       "      <td>-0.471555</td>\n",
       "      <td>1.000000</td>\n",
       "    </tr>\n",
       "  </tbody>\n",
       "</table>\n",
       "</div>"
      ],
      "text/plain": [
       "                        trips_in_first_30_days  avg_rating_of_driver  \\\n",
       "trips_in_first_30_days                1.000000             -0.011302   \n",
       "avg_rating_of_driver                 -0.011302              1.000000   \n",
       "avg_surge                            -0.001841             -0.026189   \n",
       "surge_pct                             0.005720             -0.003899   \n",
       "ultimate_black_user                   0.112210             -0.002086   \n",
       "weekday_pct                           0.050388              0.014630   \n",
       "avg_dist                             -0.136329              0.034509   \n",
       "avg_rating_by_driver                 -0.039115              0.123175   \n",
       "activity                              0.214728             -0.010834   \n",
       "phone_Android                        -0.059309              0.026729   \n",
       "phone_iPhone                          0.058342             -0.026864   \n",
       "phone_unknown                         0.002786              0.001758   \n",
       "city_Astapor                         -0.061075              0.032699   \n",
       "city_King's Landing                   0.024650              0.088392   \n",
       "city_Winterfell                       0.037735             -0.103100   \n",
       "\n",
       "                        avg_surge  surge_pct  ultimate_black_user  \\\n",
       "trips_in_first_30_days  -0.001841   0.005720             0.112210   \n",
       "avg_rating_of_driver    -0.026189  -0.003899            -0.002086   \n",
       "avg_surge                1.000000   0.793582            -0.078791   \n",
       "surge_pct                0.793582   1.000000            -0.106861   \n",
       "ultimate_black_user     -0.078791  -0.106861             1.000000   \n",
       "weekday_pct             -0.110071  -0.144918             0.035998   \n",
       "avg_dist                -0.081491  -0.104414             0.032310   \n",
       "avg_rating_by_driver     0.010597   0.020103             0.009343   \n",
       "activity                -0.003567   0.010612             0.210259   \n",
       "phone_Android           -0.008977  -0.010150            -0.075836   \n",
       "phone_iPhone             0.011104   0.012851             0.067002   \n",
       "phone_unknown           -0.011423  -0.014456             0.043145   \n",
       "city_Astapor             0.037172   0.045457             0.021259   \n",
       "city_King's Landing     -0.009198   0.028221             0.039649   \n",
       "city_Winterfell         -0.027643  -0.065603            -0.051990   \n",
       "\n",
       "                        weekday_pct  avg_dist  avg_rating_by_driver  activity  \\\n",
       "trips_in_first_30_days     0.050388 -0.136329             -0.039115  0.214728   \n",
       "avg_rating_of_driver       0.014630  0.034509              0.123175 -0.010834   \n",
       "avg_surge                 -0.110071 -0.081491              0.010597 -0.003567   \n",
       "surge_pct                 -0.144918 -0.104414              0.020103  0.010612   \n",
       "ultimate_black_user        0.035998  0.032310              0.009343  0.210259   \n",
       "weekday_pct                1.000000  0.101652              0.020442  0.026413   \n",
       "avg_dist                   0.101652  1.000000              0.080540 -0.090279   \n",
       "avg_rating_by_driver       0.020442  0.080540              1.000000 -0.025635   \n",
       "activity                   0.026413 -0.090279             -0.025635  1.000000   \n",
       "phone_Android             -0.009241  0.020888              0.008783 -0.231731   \n",
       "phone_iPhone               0.006726 -0.025030             -0.010148  0.231391   \n",
       "phone_unknown              0.012753  0.022372              0.007461 -0.007032   \n",
       "city_Astapor              -0.010540 -0.045431              0.032580 -0.179373   \n",
       "city_King's Landing        0.031349  0.015877              0.084648  0.268272   \n",
       "city_Winterfell           -0.015318  0.030050             -0.098929 -0.046985   \n",
       "\n",
       "                        phone_Android  phone_iPhone  phone_unknown  \\\n",
       "trips_in_first_30_days      -0.059309      0.058342       0.002786   \n",
       "avg_rating_of_driver         0.026729     -0.026864       0.001758   \n",
       "avg_surge                   -0.008977      0.011104      -0.011423   \n",
       "surge_pct                   -0.010150      0.012851      -0.014456   \n",
       "ultimate_black_user         -0.075836      0.067002       0.043145   \n",
       "weekday_pct                 -0.009241      0.006726       0.012753   \n",
       "avg_dist                     0.020888     -0.025030       0.022372   \n",
       "avg_rating_by_driver         0.008783     -0.010148       0.007461   \n",
       "activity                    -0.231731      0.231391      -0.007032   \n",
       "phone_Android                1.000000     -0.981471      -0.058554   \n",
       "phone_iPhone                -0.981471      1.000000      -0.133814   \n",
       "phone_unknown               -0.058554     -0.133814       1.000000   \n",
       "city_Astapor                 0.025642     -0.024539      -0.004772   \n",
       "city_King's Landing         -0.059203      0.060520      -0.009111   \n",
       "city_Winterfell              0.023517     -0.025618       0.011840   \n",
       "\n",
       "                        city_Astapor  city_King's Landing  city_Winterfell  \n",
       "trips_in_first_30_days     -0.061075             0.024650         0.037735  \n",
       "avg_rating_of_driver        0.032699             0.088392        -0.103100  \n",
       "avg_surge                   0.037172            -0.009198        -0.027643  \n",
       "surge_pct                   0.045457             0.028221        -0.065603  \n",
       "ultimate_black_user         0.021259             0.039649        -0.051990  \n",
       "weekday_pct                -0.010540             0.031349        -0.015318  \n",
       "avg_dist                   -0.045431             0.015877         0.030050  \n",
       "avg_rating_by_driver        0.032580             0.084648        -0.098929  \n",
       "activity                   -0.179373             0.268272        -0.046985  \n",
       "phone_Android               0.025642            -0.059203         0.023517  \n",
       "phone_iPhone               -0.024539             0.060520        -0.025618  \n",
       "phone_unknown              -0.004772            -0.009111         0.011840  \n",
       "city_Astapor                1.000000            -0.354298        -0.657563  \n",
       "city_King's Landing        -0.354298             1.000000        -0.471555  \n",
       "city_Winterfell            -0.657563            -0.471555         1.000000  "
      ]
     },
     "execution_count": 9,
     "metadata": {},
     "output_type": "execute_result"
    }
   ],
   "source": [
    "#Check for correlation matrix which identify multicollinearity among numerical variables\n",
    "corr_data = data.corr()\n",
    "corr_data"
   ]
  },
  {
   "cell_type": "code",
   "execution_count": 10,
   "metadata": {},
   "outputs": [
    {
     "data": {
      "text/plain": [
       "<matplotlib.axes._subplots.AxesSubplot at 0x277acc2ef08>"
      ]
     },
     "execution_count": 10,
     "metadata": {},
     "output_type": "execute_result"
    },
    {
     "data": {
      "image/png": "[encoded data removed]",
      "text/plain": [
       "<Figure size 576x432 with 2 Axes>"
      ]
     },
     "metadata": {
      "needs_background": "light"
     },
     "output_type": "display_data"
    }
   ],
   "source": [
    "#Visualize the correlation\n",
    "fig, ax = plt.subplots(figsize=(8, 6))\n",
    "sns.heatmap(corr_data, ax=ax)"
   ]
  },
  {
   "cell_type": "code",
   "execution_count": 11,
   "metadata": {},
   "outputs": [
    {
     "data": {
      "text/plain": [
       "activity                  1.000000\n",
       "city_King's Landing       0.268272\n",
       "phone_iPhone              0.231391\n",
       "trips_in_first_30_days    0.214728\n",
       "ultimate_black_user       0.210259\n",
       "weekday_pct               0.026413\n",
       "surge_pct                 0.010612\n",
       "avg_surge                -0.003567\n",
       "phone_unknown            -0.007032\n",
       "avg_rating_of_driver     -0.010834\n",
       "avg_rating_by_driver     -0.025635\n",
       "city_Winterfell          -0.046985\n",
       "avg_dist                 -0.090279\n",
       "city_Astapor             -0.179373\n",
       "phone_Android            -0.231731\n",
       "Name: activity, dtype: float64"
      ]
     },
     "execution_count": 11,
     "metadata": {},
     "output_type": "execute_result"
    }
   ],
   "source": [
    "#Check for correlations for activity.\n",
    "corr_data.activity.sort_values(ascending=False)"
   ]
  },
  {
   "cell_type": "markdown",
   "metadata": {},
   "source": [
    "According to the correlation results, there is a positive correlation between city_King's Landing, phone_iphone, trips_in_first_30_days and ultimate_black_user. "
   ]
  },
  {
   "cell_type": "code",
   "execution_count": 12,
   "metadata": {},
   "outputs": [
    {
     "data": {
      "text/plain": [
       "trips_in_first_30_days                      3.792684\n",
       "signup_date                8 days 18:06:04.650521510\n",
       "avg_rating_of_driver                        0.617338\n",
       "avg_surge                                   0.222336\n",
       "last_trip_date            61 days 17:15:20.288309375\n",
       "surge_pct                                  19.958811\n",
       "ultimate_black_user                         0.484660\n",
       "weekday_pct                                37.081503\n",
       "avg_dist                                    5.707357\n",
       "avg_rating_by_driver                        0.446652\n",
       "activity                                    0.481770\n",
       "phone_Android                               0.458454\n",
       "phone_iPhone                                0.461821\n",
       "phone_unknown                               0.088642\n",
       "city_Astapor                                0.470463\n",
       "city_King's Landing                         0.401941\n",
       "city_Winterfell                             0.498896\n",
       "dtype: object"
      ]
     },
     "execution_count": 12,
     "metadata": {},
     "output_type": "execute_result"
    }
   ],
   "source": [
    "data_std = data.std(axis=0, skipna=True)\n",
    "data_std"
   ]
  },
  {
   "cell_type": "code",
   "execution_count": 32,
   "metadata": {},
   "outputs": [
    {
     "data": {
      "image/png": "[encoded data removed]",
      "text/plain": [
       "<Figure size 1296x576 with 1 Axes>"
      ]
     },
     "metadata": {
      "needs_background": "light"
     },
     "output_type": "display_data"
    }
   ],
   "source": [
    "#Visualize the summary: First quantile, third quantile, std and line at the median on data\n",
    "#x-axis denotes the data to be plotted while the y-axis shows the frequency distribution\n",
    "plt.figure(figsize=(18,8))\n",
    "sns.boxplot(x=\"variable\", y=\"value\", data=pd.melt(data.select_dtypes(np.number)))\n",
    "plt.xticks(rotation = 45)\n",
    "plt.show()"
   ]
  },
  {
   "cell_type": "markdown",
   "metadata": {},
   "source": [
    "According to the summary plot, there are some outliers, and they can be examined individually. Also, weekday_pct has a larger scale than the others, so normalization can be thought."
   ]
  },
  {
   "cell_type": "code",
   "execution_count": 15,
   "metadata": {},
   "outputs": [
    {
     "data": {
      "text/html": [
       "<div>\n",
       "<style scoped>\n",
       "    .dataframe tbody tr th:only-of-type {\n",
       "        vertical-align: middle;\n",
       "    }\n",
       "\n",
       "    .dataframe tbody tr th {\n",
       "        vertical-align: top;\n",
       "    }\n",
       "\n",
       "    .dataframe thead th {\n",
       "        text-align: right;\n",
       "    }\n",
       "</style>\n",
       "<table border=\"1\" class=\"dataframe\">\n",
       "  <thead>\n",
       "    <tr style=\"text-align: right;\">\n",
       "      <th></th>\n",
       "      <th>trips_in_first_30_days</th>\n",
       "      <th>avg_rating_of_driver</th>\n",
       "      <th>avg_surge</th>\n",
       "      <th>surge_pct</th>\n",
       "      <th>weekday_pct</th>\n",
       "      <th>avg_dist</th>\n",
       "      <th>avg_rating_by_driver</th>\n",
       "      <th>activity</th>\n",
       "      <th>phone_Android</th>\n",
       "      <th>phone_iPhone</th>\n",
       "      <th>phone_unknown</th>\n",
       "      <th>city_Astapor</th>\n",
       "      <th>city_King's Landing</th>\n",
       "      <th>city_Winterfell</th>\n",
       "    </tr>\n",
       "  </thead>\n",
       "  <tbody>\n",
       "    <tr>\n",
       "      <th>count</th>\n",
       "      <td>50000.000000</td>\n",
       "      <td>41878.000000</td>\n",
       "      <td>50000.000000</td>\n",
       "      <td>50000.000000</td>\n",
       "      <td>50000.000000</td>\n",
       "      <td>50000.000000</td>\n",
       "      <td>49799.000000</td>\n",
       "      <td>50000.00000</td>\n",
       "      <td>50000.000000</td>\n",
       "      <td>50000.000000</td>\n",
       "      <td>50000.000000</td>\n",
       "      <td>50000.000000</td>\n",
       "      <td>50000.000000</td>\n",
       "      <td>50000.000000</td>\n",
       "    </tr>\n",
       "    <tr>\n",
       "      <th>mean</th>\n",
       "      <td>2.278200</td>\n",
       "      <td>4.601559</td>\n",
       "      <td>1.074764</td>\n",
       "      <td>8.849536</td>\n",
       "      <td>60.926084</td>\n",
       "      <td>5.796827</td>\n",
       "      <td>4.778158</td>\n",
       "      <td>0.36620</td>\n",
       "      <td>0.300440</td>\n",
       "      <td>0.691640</td>\n",
       "      <td>0.007920</td>\n",
       "      <td>0.330680</td>\n",
       "      <td>0.202600</td>\n",
       "      <td>0.466720</td>\n",
       "    </tr>\n",
       "    <tr>\n",
       "      <th>std</th>\n",
       "      <td>3.792684</td>\n",
       "      <td>0.617338</td>\n",
       "      <td>0.222336</td>\n",
       "      <td>19.958811</td>\n",
       "      <td>37.081503</td>\n",
       "      <td>5.707357</td>\n",
       "      <td>0.446652</td>\n",
       "      <td>0.48177</td>\n",
       "      <td>0.458454</td>\n",
       "      <td>0.461821</td>\n",
       "      <td>0.088642</td>\n",
       "      <td>0.470463</td>\n",
       "      <td>0.401941</td>\n",
       "      <td>0.498896</td>\n",
       "    </tr>\n",
       "    <tr>\n",
       "      <th>min</th>\n",
       "      <td>0.000000</td>\n",
       "      <td>1.000000</td>\n",
       "      <td>1.000000</td>\n",
       "      <td>0.000000</td>\n",
       "      <td>0.000000</td>\n",
       "      <td>0.000000</td>\n",
       "      <td>1.000000</td>\n",
       "      <td>0.00000</td>\n",
       "      <td>0.000000</td>\n",
       "      <td>0.000000</td>\n",
       "      <td>0.000000</td>\n",
       "      <td>0.000000</td>\n",
       "      <td>0.000000</td>\n",
       "      <td>0.000000</td>\n",
       "    </tr>\n",
       "    <tr>\n",
       "      <th>25%</th>\n",
       "      <td>0.000000</td>\n",
       "      <td>4.300000</td>\n",
       "      <td>1.000000</td>\n",
       "      <td>0.000000</td>\n",
       "      <td>33.300000</td>\n",
       "      <td>2.420000</td>\n",
       "      <td>4.700000</td>\n",
       "      <td>0.00000</td>\n",
       "      <td>0.000000</td>\n",
       "      <td>0.000000</td>\n",
       "      <td>0.000000</td>\n",
       "      <td>0.000000</td>\n",
       "      <td>0.000000</td>\n",
       "      <td>0.000000</td>\n",
       "    </tr>\n",
       "    <tr>\n",
       "      <th>50%</th>\n",
       "      <td>1.000000</td>\n",
       "      <td>4.900000</td>\n",
       "      <td>1.000000</td>\n",
       "      <td>0.000000</td>\n",
       "      <td>66.700000</td>\n",
       "      <td>3.880000</td>\n",
       "      <td>5.000000</td>\n",
       "      <td>0.00000</td>\n",
       "      <td>0.000000</td>\n",
       "      <td>1.000000</td>\n",
       "      <td>0.000000</td>\n",
       "      <td>0.000000</td>\n",
       "      <td>0.000000</td>\n",
       "      <td>0.000000</td>\n",
       "    </tr>\n",
       "    <tr>\n",
       "      <th>75%</th>\n",
       "      <td>3.000000</td>\n",
       "      <td>5.000000</td>\n",
       "      <td>1.050000</td>\n",
       "      <td>8.600000</td>\n",
       "      <td>100.000000</td>\n",
       "      <td>6.940000</td>\n",
       "      <td>5.000000</td>\n",
       "      <td>1.00000</td>\n",
       "      <td>1.000000</td>\n",
       "      <td>1.000000</td>\n",
       "      <td>0.000000</td>\n",
       "      <td>1.000000</td>\n",
       "      <td>0.000000</td>\n",
       "      <td>1.000000</td>\n",
       "    </tr>\n",
       "    <tr>\n",
       "      <th>max</th>\n",
       "      <td>125.000000</td>\n",
       "      <td>5.000000</td>\n",
       "      <td>8.000000</td>\n",
       "      <td>100.000000</td>\n",
       "      <td>100.000000</td>\n",
       "      <td>160.960000</td>\n",
       "      <td>5.000000</td>\n",
       "      <td>1.00000</td>\n",
       "      <td>1.000000</td>\n",
       "      <td>1.000000</td>\n",
       "      <td>1.000000</td>\n",
       "      <td>1.000000</td>\n",
       "      <td>1.000000</td>\n",
       "      <td>1.000000</td>\n",
       "    </tr>\n",
       "  </tbody>\n",
       "</table>\n",
       "</div>"
      ],
      "text/plain": [
       "       trips_in_first_30_days  avg_rating_of_driver     avg_surge  \\\n",
       "count            50000.000000          41878.000000  50000.000000   \n",
       "mean                 2.278200              4.601559      1.074764   \n",
       "std                  3.792684              0.617338      0.222336   \n",
       "min                  0.000000              1.000000      1.000000   \n",
       "25%                  0.000000              4.300000      1.000000   \n",
       "50%                  1.000000              4.900000      1.000000   \n",
       "75%                  3.000000              5.000000      1.050000   \n",
       "max                125.000000              5.000000      8.000000   \n",
       "\n",
       "          surge_pct   weekday_pct      avg_dist  avg_rating_by_driver  \\\n",
       "count  50000.000000  50000.000000  50000.000000          49799.000000   \n",
       "mean       8.849536     60.926084      5.796827              4.778158   \n",
       "std       19.958811     37.081503      5.707357              0.446652   \n",
       "min        0.000000      0.000000      0.000000              1.000000   \n",
       "25%        0.000000     33.300000      2.420000              4.700000   \n",
       "50%        0.000000     66.700000      3.880000              5.000000   \n",
       "75%        8.600000    100.000000      6.940000              5.000000   \n",
       "max      100.000000    100.000000    160.960000              5.000000   \n",
       "\n",
       "          activity  phone_Android  phone_iPhone  phone_unknown  city_Astapor  \\\n",
       "count  50000.00000   50000.000000  50000.000000   50000.000000  50000.000000   \n",
       "mean       0.36620       0.300440      0.691640       0.007920      0.330680   \n",
       "std        0.48177       0.458454      0.461821       0.088642      0.470463   \n",
       "min        0.00000       0.000000      0.000000       0.000000      0.000000   \n",
       "25%        0.00000       0.000000      0.000000       0.000000      0.000000   \n",
       "50%        0.00000       0.000000      1.000000       0.000000      0.000000   \n",
       "75%        1.00000       1.000000      1.000000       0.000000      1.000000   \n",
       "max        1.00000       1.000000      1.000000       1.000000      1.000000   \n",
       "\n",
       "       city_King's Landing  city_Winterfell  \n",
       "count         50000.000000     50000.000000  \n",
       "mean              0.202600         0.466720  \n",
       "std               0.401941         0.498896  \n",
       "min               0.000000         0.000000  \n",
       "25%               0.000000         0.000000  \n",
       "50%               0.000000         0.000000  \n",
       "75%               0.000000         1.000000  \n",
       "max               1.000000         1.000000  "
      ]
     },
     "execution_count": 15,
     "metadata": {},
     "output_type": "execute_result"
    }
   ],
   "source": [
    "data.describe()"
   ]
  },
  {
   "cell_type": "code",
   "execution_count": 16,
   "metadata": {},
   "outputs": [],
   "source": [
    "#Prepare the dataset for modeling\n",
    "X = data.drop(['activity', 'last_trip_date', 'signup_date'], axis=1)\n",
    "y = data.activity"
   ]
  },
  {
   "cell_type": "markdown",
   "metadata": {},
   "source": [
    "* In this project I will use Light GBM, because:\n",
    "\n",
    "It is fast and has high efficiency,\n",
    "\n",
    "It use low memory,\n",
    "\n",
    "High accuracy,\n",
    "\n",
    "Good with large datasets,\n",
    "\n",
    "Parallel learning supported.\n",
    "\n",
    "*  Random forest is another good option for this kind of datasets."
   ]
  },
  {
   "cell_type": "code",
   "execution_count": 17,
   "metadata": {},
   "outputs": [],
   "source": [
    "#Split dataset to train-test set\n",
    "X_train, X_test, y_train, y_test = train_test_split(X, y, test_size=0.3, random_state=123)\n",
    "\n",
    "#Generate a no skill prediction (majority class) for the next steps\n",
    "bad_prob = [0 for _ in range(len(y_test))]"
   ]
  },
  {
   "cell_type": "code",
   "execution_count": 18,
   "metadata": {},
   "outputs": [],
   "source": [
    "#Create a dictionary for hyperparameters, contains parameters and values.\n",
    "parameters = {'n_estimators':[5000],\n",
    "             'num_leaves':[20],\n",
    "             'max_depth':[10, 20, 30, 50],\n",
    "             'learning_rate':[0.1, 0.2],\n",
    "             'lambda_l1': [0.5], \n",
    "             'lambda_l2': [0.5],\n",
    "             'max_bin':[300],\n",
    "             'subsample':[0.2]}"
   ]
  },
  {
   "cell_type": "code",
   "execution_count": 19,
   "metadata": {},
   "outputs": [],
   "source": [
    "#Instantiate the classifier\n",
    "model = lgb.LGBMClassifier()"
   ]
  },
  {
   "cell_type": "code",
   "execution_count": 21,
   "metadata": {},
   "outputs": [],
   "source": [
    "#Define a search space as a grid of hyperparameter values and evaluate every position in the grid.\n",
    "gs = GridSearchCV(\n",
    "        estimator = model,\n",
    "        param_grid = parameters,\n",
    "        cv = 10,\n",
    "        n_jobs = -1, \n",
    "        scoring= 'accuracy'\n",
    "        )"
   ]
  },
  {
   "cell_type": "code",
   "execution_count": 22,
   "metadata": {},
   "outputs": [
    {
     "name": "stdout",
     "output_type": "stream",
     "text": [
      "[LightGBM] [Warning] lambda_l1 is set=0.5, reg_alpha=0.0 will be ignored. Current value: lambda_l1=0.5\n",
      "[LightGBM] [Warning] lambda_l2 is set=0.5, reg_lambda=0.0 will be ignored. Current value: lambda_l2=0.5\n",
      "{'lambda_l1': 0.5, 'lambda_l2': 0.5, 'learning_rate': 0.1, 'max_bin': 300, 'max_depth': 20, 'n_estimators': 5000, 'num_leaves': 20, 'subsample': 0.2}\n",
      "0.7803142857142857\n"
     ]
    }
   ],
   "source": [
    "#Execute the search and print the best parameters\n",
    "model_result = gs.fit(X_train, y_train)\n",
    "print(model_result.best_params_)\n",
    "print(model_result.best_score_)"
   ]
  },
  {
   "cell_type": "code",
   "execution_count": 25,
   "metadata": {},
   "outputs": [
    {
     "name": "stdout",
     "output_type": "stream",
     "text": [
      "Classification accuracy: 0.7781333333333333\n"
     ]
    }
   ],
   "source": [
    "#Make class predictions for the testing set\n",
    "y_pred = model_result.predict(X_test)\n",
    "\n",
    "#Percentage of correct predictions\n",
    "print('Classification accuracy:',  metrics.accuracy_score(y_test, y_pred))"
   ]
  },
  {
   "cell_type": "code",
   "execution_count": 26,
   "metadata": {},
   "outputs": [
    {
     "name": "stdout",
     "output_type": "stream",
     "text": [
      "[[8026 1426]\n",
      " [1902 3646]]\n"
     ]
    }
   ],
   "source": [
    "#Performance of classification model\n",
    "print(metrics.confusion_matrix(y_test, y_pred))"
   ]
  },
  {
   "cell_type": "markdown",
   "metadata": {},
   "source": [
    "True Positives (TP): 3646\n",
    "\n",
    "True Negatives (TN): 8026\n",
    "\n",
    "False Positives (FP): 1426\n",
    "\n",
    "False Negatives (FN): 1902"
   ]
  },
  {
   "cell_type": "code",
   "execution_count": 27,
   "metadata": {},
   "outputs": [],
   "source": [
    "#Predict probabilities\n",
    "pred = model_result.predict_proba(X_test)\n",
    "\n",
    "#Keep probabilities for the positive outcome only\n",
    "pred = pred[:, 1]\n",
    "\n",
    "#Calculate scores\n",
    "bad_auc = roc_auc_score(y_test, bad_prob)\n",
    "good_auc = roc_auc_score(y_test, pred)"
   ]
  },
  {
   "cell_type": "code",
   "execution_count": 28,
   "metadata": {},
   "outputs": [
    {
     "data": {
      "image/png": "[encoded data removed]",
      "text/plain": [
       "<Figure size 432x288 with 1 Axes>"
      ]
     },
     "metadata": {
      "needs_background": "light"
     },
     "output_type": "display_data"
    }
   ],
   "source": [
    "#Calculate the ROC curves\n",
    "fpr1, tpr1, thr = roc_curve(y_test, bad_prob)\n",
    "fpr2, tpr2, thr = roc_curve(y_test, pred)\n",
    "\n",
    "#Plot the ROC curve for the model\n",
    "pyplot.plot(fpr1, tpr1, linestyle='--', label='bad performance')\n",
    "pyplot.plot(fpr2, tpr2, marker='.', label='high performance')\n",
    "\n",
    "pyplot.xlabel('False Positive Rate')\n",
    "pyplot.ylabel('True Positive Rate')\n",
    "\n",
    "pyplot.legend()\n",
    "\n",
    "pyplot.show()"
   ]
  },
  {
   "cell_type": "code",
   "execution_count": 57,
   "metadata": {},
   "outputs": [
    {
     "name": "stdout",
     "output_type": "stream",
     "text": [
      "              precision    recall  f1-score   support\n",
      "\n",
      "           0       0.81      0.85      0.83      9452\n",
      "           1       0.72      0.66      0.69      5548\n",
      "\n",
      "    accuracy                           0.78     15000\n",
      "   macro avg       0.76      0.75      0.76     15000\n",
      "weighted avg       0.78      0.78      0.78     15000\n",
      "\n"
     ]
    }
   ],
   "source": [
    "print(classification_report(y_test, y_pred))"
   ]
  },
  {
   "cell_type": "code",
   "execution_count": 59,
   "metadata": {},
   "outputs": [
    {
     "name": "stdout",
     "output_type": "stream",
     "text": [
      "Feature: 0, Score: 9733.00\n",
      "Feature: 1, Score: 12351.00\n",
      "Feature: 2, Score: 6205.00\n",
      "Feature: 3, Score: 6522.00\n",
      "Feature: 4, Score: 1897.00\n",
      "Feature: 5, Score: 15287.00\n",
      "Feature: 6, Score: 30058.00\n",
      "Feature: 7, Score: 8101.00\n",
      "Feature: 8, Score: 1002.00\n",
      "Feature: 9, Score: 747.00\n",
      "Feature: 10, Score: 65.00\n",
      "Feature: 11, Score: 1165.00\n",
      "Feature: 12, Score: 1150.00\n",
      "Feature: 13, Score: 717.00\n"
     ]
    },
    {
     "data": {
      "image/png": "[encoded data removed]",
      "text/plain": [
       "<Figure size 432x288 with 1 Axes>"
      ]
     },
     "metadata": {
      "needs_background": "light"
     },
     "output_type": "display_data"
    }
   ],
   "source": [
    "#Calculate the feature importance\n",
    "importance = model_result.best_estimator_.feature_importances_\n",
    "\n",
    "#Summarize feature importance\n",
    "for i, v in enumerate(importance):\n",
    "    print('Feature: %0d, Score: %.2f' % (i,v))\n",
    "    \n",
    "#Plot feature importance\n",
    "pyplot.bar([x for x in range(len(importance))], importance)\n",
    "pyplot.show()"
   ]
  },
  {
   "cell_type": "markdown",
   "metadata": {},
   "source": [
    "According to the graph, it is seen that perhaps 4 of the 10 features as being important to prediction."
   ]
  },
  {
   "cell_type": "code",
   "execution_count": 60,
   "metadata": {},
   "outputs": [
    {
     "data": {
      "text/html": [
       "<div>\n",
       "<style scoped>\n",
       "    .dataframe tbody tr th:only-of-type {\n",
       "        vertical-align: middle;\n",
       "    }\n",
       "\n",
       "    .dataframe tbody tr th {\n",
       "        vertical-align: top;\n",
       "    }\n",
       "\n",
       "    .dataframe thead th {\n",
       "        text-align: right;\n",
       "    }\n",
       "</style>\n",
       "<table border=\"1\" class=\"dataframe\">\n",
       "  <thead>\n",
       "    <tr style=\"text-align: right;\">\n",
       "      <th></th>\n",
       "      <th>importance</th>\n",
       "    </tr>\n",
       "  </thead>\n",
       "  <tbody>\n",
       "    <tr>\n",
       "      <th>avg_dist</th>\n",
       "      <td>30058</td>\n",
       "    </tr>\n",
       "    <tr>\n",
       "      <th>weekday_pct</th>\n",
       "      <td>15287</td>\n",
       "    </tr>\n",
       "    <tr>\n",
       "      <th>avg_rating_of_driver</th>\n",
       "      <td>12351</td>\n",
       "    </tr>\n",
       "    <tr>\n",
       "      <th>trips_in_first_30_days</th>\n",
       "      <td>9733</td>\n",
       "    </tr>\n",
       "    <tr>\n",
       "      <th>avg_rating_by_driver</th>\n",
       "      <td>8101</td>\n",
       "    </tr>\n",
       "    <tr>\n",
       "      <th>surge_pct</th>\n",
       "      <td>6522</td>\n",
       "    </tr>\n",
       "    <tr>\n",
       "      <th>avg_surge</th>\n",
       "      <td>6205</td>\n",
       "    </tr>\n",
       "    <tr>\n",
       "      <th>ultimate_black_user</th>\n",
       "      <td>1897</td>\n",
       "    </tr>\n",
       "    <tr>\n",
       "      <th>city_Astapor</th>\n",
       "      <td>1165</td>\n",
       "    </tr>\n",
       "    <tr>\n",
       "      <th>city_King's Landing</th>\n",
       "      <td>1150</td>\n",
       "    </tr>\n",
       "    <tr>\n",
       "      <th>phone_Android</th>\n",
       "      <td>1002</td>\n",
       "    </tr>\n",
       "    <tr>\n",
       "      <th>phone_iPhone</th>\n",
       "      <td>747</td>\n",
       "    </tr>\n",
       "    <tr>\n",
       "      <th>city_Winterfell</th>\n",
       "      <td>717</td>\n",
       "    </tr>\n",
       "    <tr>\n",
       "      <th>phone_unknown</th>\n",
       "      <td>65</td>\n",
       "    </tr>\n",
       "  </tbody>\n",
       "</table>\n",
       "</div>"
      ],
      "text/plain": [
       "                        importance\n",
       "avg_dist                     30058\n",
       "weekday_pct                  15287\n",
       "avg_rating_of_driver         12351\n",
       "trips_in_first_30_days        9733\n",
       "avg_rating_by_driver          8101\n",
       "surge_pct                     6522\n",
       "avg_surge                     6205\n",
       "ultimate_black_user           1897\n",
       "city_Astapor                  1165\n",
       "city_King's Landing           1150\n",
       "phone_Android                 1002\n",
       "phone_iPhone                   747\n",
       "city_Winterfell                717\n",
       "phone_unknown                   65"
      ]
     },
     "execution_count": 60,
     "metadata": {},
     "output_type": "execute_result"
    }
   ],
   "source": [
    "#Check for the important columns which have higher relation with the target\n",
    "pd.DataFrame(model_result.best_estimator_.feature_importances_, \n",
    "             index = X_train.columns, columns = ['importance']).sort_values('importance', ascending=False)"
   ]
  },
  {
   "cell_type": "code",
   "execution_count": 82,
   "metadata": {},
   "outputs": [
    {
     "data": {
      "text/plain": [
       "-0.09027878047559729"
      ]
     },
     "metadata": {},
     "output_type": "display_data"
    },
    {
     "data": {
      "text/plain": [
       "0.02641321338426595"
      ]
     },
     "metadata": {},
     "output_type": "display_data"
    },
    {
     "data": {
      "text/plain": [
       "-0.0108343312868713"
      ]
     },
     "metadata": {},
     "output_type": "display_data"
    },
    {
     "data": {
      "text/plain": [
       "0.2147278984978567"
      ]
     },
     "metadata": {},
     "output_type": "display_data"
    }
   ],
   "source": [
    "display(data['avg_dist'].corr(data['activity']))\n",
    "display(data['weekday_pct'].corr(data['activity']))\n",
    "display(data['avg_rating_of_driver'].corr(data['activity']))\n",
    "display(data['trips_in_first_30_days'].corr(data['activity']))"
   ]
  },
  {
   "cell_type": "markdown",
   "metadata": {},
   "source": [
    "# Conclusion"
   ]
  },
  {
   "cell_type": "markdown",
   "metadata": {},
   "source": [
    "According to the model result, the accuracy is 77.8%. \n",
    "\n",
    "After seeing the feature importance relation, the most related features can be separated as average distance, weekday percentage, average rating of driver and trips in the first 30 days.\n",
    "\n",
    "It can be understood that avg_dist is larger for inactive riders in their 6th months. Hence, it can be advised to not to increase so much the distance of trips taken in the first 30 days. The chance of being an active user is increasing while the week day usage goes up. avg_rating_of_driver is negatively correlated with target feature, meaning that if the rider’s average rating of their drivers over all of their trips are higher are less likely to be retained. The chance of being an active user is increasing as the percentage of trips_in_first_30_days goes up. "
   ]
  }
 ],
 "metadata": {
  "kernelspec": {
   "display_name": "Python 3",
   "language": "python",
   "name": "python3"
  },
  "language_info": {
   "codemirror_mode": {
    "name": "ipython",
    "version": 3
   },
   "file_extension": ".py",
   "mimetype": "text/x-python",
   "name": "python",
   "nbconvert_exporter": "python",
   "pygments_lexer": "ipython3",
   "version": "3.7.4"
  }
 },
 "nbformat": 4,
 "nbformat_minor": 4
}
